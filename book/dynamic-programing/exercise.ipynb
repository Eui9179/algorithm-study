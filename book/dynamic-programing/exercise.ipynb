{
 "cells": [
  {
   "cell_type": "markdown",
   "id": "dad2c580",
   "metadata": {},
   "source": [
    "# 개미 전사"
   ]
  },
  {
   "cell_type": "code",
   "execution_count": null,
   "id": "f7b7d035",
   "metadata": {},
   "outputs": [],
   "source": [
    "def solution(store):\n",
    "    dp = [0] * 100\n",
    "    \n",
    "    dp[0] = store[0]\n",
    "    dp[1] = max(dp[0], store[1])\n",
    "    \n",
    "    for i in range(2, len(store)):\n",
    "        dp[i] = max(dp[i-1], dp[i-2] + dp[i])\n",
    "\n",
    "solution([1, 3, 1, 5])"
   ]
  },
  {
   "cell_type": "markdown",
   "id": "54ed830f",
   "metadata": {},
   "source": [
    "# 1로 만들기"
   ]
  },
  {
   "cell_type": "code",
   "execution_count": 5,
   "id": "545e19a2",
   "metadata": {},
   "outputs": [
    {
     "data": {
      "text/plain": [
       "3"
      ]
     },
     "execution_count": 5,
     "metadata": {},
     "output_type": "execute_result"
    }
   ],
   "source": [
    "def solution(n):\n",
    "    d = [0] * 30\n",
    "    \n",
    "    for i in range(2, n + 1):\n",
    "        d[i] = d[i - 1] + 1\n",
    "        \n",
    "        if i % 2 == 0:\n",
    "            d[i] = min(d[i], d[i // 2] + 1)\n",
    "        if i % 3 == 0:\n",
    "            d[i] = min(d[i], d[i // 3] + 1)\n",
    "        if i % 5 == 0:\n",
    "            d[i] = min(d[i], d[i // 5] + 1)\n",
    "            \n",
    "    return d[n]\n",
    "\n",
    "solution(26)"
   ]
  },
  {
   "cell_type": "markdown",
   "id": "e82c6562",
   "metadata": {},
   "source": [
    "# 효율적인 화폐 구성"
   ]
  },
  {
   "cell_type": "code",
   "execution_count": null,
   "id": "a539e70d",
   "metadata": {},
   "outputs": [],
   "source": [
    "def solution(m, coins:list):\n",
    "    answer = 0\n",
    "    \n",
    "    coins.sort(reverse=True)\n",
    "    \n",
    "    for coin in coins:\n",
    "        while True:\n",
    "            m -= coin\n",
    "            answer += 1\n",
    "            if m == 0:\n",
    "                return answer\n",
    "            elif m < 0:\n",
    "                m += coin\n",
    "                answer -= 1\n",
    "                break\n",
    "    return -1\n",
    "\n",
    "\n",
    "solution(100000, [2, 3])"
   ]
  }
 ],
 "metadata": {
  "kernelspec": {
   "display_name": "Python 3 (ipykernel)",
   "language": "python",
   "name": "python3"
  },
  "language_info": {
   "codemirror_mode": {
    "name": "ipython",
    "version": 3
   },
   "file_extension": ".py",
   "mimetype": "text/x-python",
   "name": "python",
   "nbconvert_exporter": "python",
   "pygments_lexer": "ipython3",
   "version": "3.9.12"
  }
 },
 "nbformat": 4,
 "nbformat_minor": 5
}
