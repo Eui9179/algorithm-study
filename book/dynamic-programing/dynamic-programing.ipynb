{
 "cells": [
  {
   "cell_type": "markdown",
   "id": "361177ac",
   "metadata": {},
   "source": [
    "# 다이나믹 프로그래밍\n",
    "---\n",
    "\n",
    "- 다이나믹 프로그래밍은 **메모리를 적절히 사용**하여 수행시간 효율성을 비약적으로 향상시키는 방법이다.\n",
    "\n",
    "\n",
    "- 이미 계산된 결과를 별도의 메모리 영역에 저장하여 다시 계산하지 않도록 한다.\n",
    "\n",
    "\n",
    "- 다이나믹 프로그래밍의 구현은 일반적으로 두 가지 방식(탑다운과 보텀업)으로 구성된다.\n",
    "\n",
    "\n",
    "- 다이나믹 프로그래밍은 문제가 다음의 조건을 만족할 때 사용할 수 있다.\n",
    "\n",
    "    1. 최적 부분 구조 (Optimal Substructure)\n",
    "        - 큰 문제를 작은 문제로 나눌 수 있으며 작은 문제의 답을 모아서 큰 문제를 해결할 수 있다. \n",
    "    <br><br>\n",
    "    2. 중복되는 부분 문제 (Overlapping Subproblem)\n",
    "        - 동일한 작은 문제를 반복적으로 해결해야 한다."
   ]
  },
  {
   "cell_type": "markdown",
   "id": "9a5dabf5",
   "metadata": {},
   "source": [
    "## 피보나치 수열\n",
    "\n",
    "- 피보나치 수열은 다음과 같은 형태의 수열이며, 다이나믹 프로그래밍으로 효과적으로 계산할 수 있다.\n",
    "\n",
    "        1, 1, 2, 3, 5, 8, 13, 21, 34, 55, 89\n",
    "\n",
    "- 피보나치 수열을 점화식으로 표현하면 다음과 같다\n",
    "\n",
    "        An = An-1 + An-2\n",
    "        A1 = 1\n",
    "        A2 = 1"
   ]
  },
  {
   "cell_type": "code",
   "execution_count": 3,
   "id": "b7db90e5",
   "metadata": {},
   "outputs": [
    {
     "data": {
      "text/plain": [
       "8"
      ]
     },
     "execution_count": 3,
     "metadata": {},
     "output_type": "execute_result"
    }
   ],
   "source": [
    "# 피보나치 함수를 재귀함수로 구현\n",
    "def fibo(x):\n",
    "    if x == 1 or x == 2:\n",
    "        return 1\n",
    "    return fibo(x - 1) + fibo(x - 2)\n",
    "\n",
    "fibo(6)"
   ]
  },
  {
   "cell_type": "markdown",
   "id": "b8085288",
   "metadata": {},
   "source": [
    "간단히 구현이 가능하지만 시간복잡도가 `O(2^n)` 인걸 감안하면 100번째 피보나치 수열의 수를 구하려고하면 현실적으로 불가능한 계산량이 나온다.\n",
    "\n",
    "이러한 문제를 해결하기 위해 `다이나믹 프로그래밍`이 필요한 것이다."
   ]
  },
  {
   "cell_type": "markdown",
   "id": "1b612cef",
   "metadata": {},
   "source": [
    "### 피보나치 수열의 효율적인 해법: 다이나믹 프로그래밍\n",
    "\n",
    "- 다이나믹 프로그래밍의 사용 조건을 만족하는지 확인한다.\n",
    "    1. 최적 부분 구조: 큰 문제를 작은 문제로 나눌 수 있다.\n",
    "    2. 중복되는 부분 문제: 동일한 작은 문제를 반복적으로 해결한다."
   ]
  },
  {
   "cell_type": "markdown",
   "id": "5de87f0a",
   "metadata": {},
   "source": [
    "## 메모이제이션\n",
    "\n",
    "- 메모이제이션은 다이나믹 프로그래밍을 구현하는 방법 중 하나이고 **한번 계산한 결과를 메모리 공간에 메모**하는 기법이다.\n",
    "\n",
    "\n",
    "- 값을 기록해 놓는다는 점에서 캐싱이라고도 한다."
   ]
  },
  {
   "cell_type": "code",
   "execution_count": 4,
   "id": "341773ea",
   "metadata": {},
   "outputs": [
    {
     "data": {
      "text/plain": [
       "218922995834555169026"
      ]
     },
     "execution_count": 4,
     "metadata": {},
     "output_type": "execute_result"
    }
   ],
   "source": [
    "d = [0] * 100 # 한번 계산된 결과를 메모이제이션하기 위한 리스트 초기화\n",
    "\n",
    "def fibo(x):\n",
    "    \n",
    "    if x == 1 or x == 2:\n",
    "        # 종료 조건\n",
    "        return 1\n",
    "    \n",
    "    if d[x] != 0:\n",
    "        # 이미 계산된적 있다면 d 리스트에 저장\n",
    "        return d[x]\n",
    "    \n",
    "    d[x] = fibo(x - 1) + fibo(x - 2) # 피보나치 수열 계산\n",
    "    \n",
    "    return d[x]\n",
    "\n",
    "fibo(99)"
   ]
  },
  {
   "cell_type": "code",
   "execution_count": 3,
   "id": "31f58108",
   "metadata": {},
   "outputs": [
    {
     "data": {
      "text/plain": [
       "218922995834555169026"
      ]
     },
     "execution_count": 3,
     "metadata": {},
     "output_type": "execute_result"
    }
   ],
   "source": [
    "# 바텀업 방식\n",
    "d = [0] * 100\n",
    "\n",
    "def fibo2(n):\n",
    "    d[1] = 1\n",
    "    d[2] = 2\n",
    "    \n",
    "    for i in range(3, n + 1):\n",
    "        d[i] = d[n - 1] + d[n - 2]\n",
    "        \n",
    "    return d[n]\n",
    "\n",
    "fibo(99)"
   ]
  },
  {
   "cell_type": "markdown",
   "id": "6716ed66",
   "metadata": {},
   "source": [
    "다이나믹 프로그래밍을 이용하면 시간복잡도는 O(n)이 된다. "
   ]
  }
 ],
 "metadata": {
  "kernelspec": {
   "display_name": "Python 3 (ipykernel)",
   "language": "python",
   "name": "python3"
  },
  "language_info": {
   "codemirror_mode": {
    "name": "ipython",
    "version": 3
   },
   "file_extension": ".py",
   "mimetype": "text/x-python",
   "name": "python",
   "nbconvert_exporter": "python",
   "pygments_lexer": "ipython3",
   "version": "3.9.12"
  }
 },
 "nbformat": 4,
 "nbformat_minor": 5
}
