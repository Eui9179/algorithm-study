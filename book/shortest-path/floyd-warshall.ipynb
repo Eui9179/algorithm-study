{
 "cells": [
  {
   "cell_type": "markdown",
   "id": "68284bbb",
   "metadata": {},
   "source": [
    "# 플로이드 워셜 알고리즘\n",
    "---"
   ]
  },
  {
   "cell_type": "markdown",
   "id": "5d9aa0b2",
   "metadata": {},
   "source": [
    "다익스트라 알고리즘은 한 지점에서 특정 지점까지의 최단 경로를 구하는 상황에서 쓰는 알고리즘이라면 \n",
    "\n",
    "**플로이드 워셜 알고리즘**은 '모든 지점에서 다른 모든 지점까지의 최단 경로를 모두 구해야하는 경우' 사용할 수 있는 알고리즘이다.\n",
    "\n"
   ]
  }
 ],
 "metadata": {
  "kernelspec": {
   "display_name": "Python 3 (ipykernel)",
   "language": "python",
   "name": "python3"
  },
  "language_info": {
   "codemirror_mode": {
    "name": "ipython",
    "version": 3
   },
   "file_extension": ".py",
   "mimetype": "text/x-python",
   "name": "python",
   "nbconvert_exporter": "python",
   "pygments_lexer": "ipython3",
   "version": "3.9.12"
  }
 },
 "nbformat": 4,
 "nbformat_minor": 5
}
