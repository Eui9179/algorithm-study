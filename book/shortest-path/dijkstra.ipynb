{
 "cells": [
  {
   "cell_type": "markdown",
   "id": "069cb313",
   "metadata": {},
   "source": [
    "# 최단 경로\n",
    "---"
   ]
  },
  {
   "cell_type": "markdown",
   "id": "64629600",
   "metadata": {},
   "source": [
    "**최단 경로**알고리즘은 말 그대로 가장 짧은 경로를 찾는 알고리즘이다. 최단 경로 알고리즘 유형 중 다익스트라 최단 경로와 플로이드 워셜 알고리즘 유형을 알아보자."
   ]
  },
  {
   "cell_type": "markdown",
   "id": "c944922b",
   "metadata": {},
   "source": [
    "# 다익스트라 최단 경로 알고리즘\n",
    "\n",
    "---\n",
    "\n",
    "**다익스트라** 최단 경로 알고리즘은 그래프에서 여러 개의 노드가 있을 때, 특정한 노드에서 출발하여 다른 노드로 가는 각각의 최단 경로를 구해주는 알고리즘이다. \n",
    "\n",
    "다익스트라 최단 경로 알고리즘은 '음의 간선'이 없을 때 정상적으로 동작한다. **음의 간선**이란 0보다 작은 값을 가지는 간선을 의미하는데, 현실 세계의 길은 음의 간선으로 표현되지 않으므로 다익스트라 알고리즘은 실제로 GPS 소프트웨어의 기본 알고리즘으로 채택되곤 한다.\n",
    "\n",
    ">1. 출발 노드를 설정한다.\n",
    "2. 최단 거리 테이블을 초기화한다.\n",
    "3. 방문하지 않은 노드 중에는 최단 거리가 가장 짧은 노드를 선택한다.\n",
    "4. 해당 노드를 거쳐 다른 노드로 가는 비용을 계산하여 최단 거리 테이블을 갱신한다.\n",
    "5. 위 과정에서 3번과 4번을 반복한다.\n",
    "\n",
    "다익스트라 알고리즘은 최단 경로를 구하는과정에서 '각 노드에 대한 현재까지의 최단 거리' 정보를 항상 1차원 리스트에 저장하며 리스트를 계속 갱신한다는 특징이 있다. 매번 현재 처리하고 있는 노드를 기준으로 주변 간선을 확인한다. 나중에 현재 처리하고 있는 노드와 인접한 노드로 도달하는 더 짧은 경로를 찾으면 그 경로를 제일 짧은 경로로 판단한다. 따라서 '방문하지 않은 노드 중에서 현재 최단 거리가 가장 짧은 노드를 확인'해 그 노드에 대하여 `4`번 과정을 수행한다는 점에서 그리디 알고리즘으로 볼 수 있다.\n",
    "\n",
    "다익스르라 알고리즘을 구현하는 방법은 2가지 이다.\n",
    "\n",
    ">방법1. 구현이 쉽지만 속도가 느림<br>\n",
    "방법2. 구현이 비교적 어렵지만 속도가 빠름"
   ]
  },
  {
   "cell_type": "markdown",
   "id": "fb8cd520",
   "metadata": {},
   "source": [
    "# 방법 1. 간단한 다익스트라 알고리즘\n",
    "---\n",
    "간단한 다익스트라 알고리즘은 O(V^2)의 시간복잡도를 가진다. 여기서 V는 노드의 개수를 의미한다.\n",
    "처음에 각 노드에 대한 최단 거리르 담는 1차원 리스트를 선언한다. 이후에 단계마다 '방문하지 않은 노드 중에서 최단 거리가 가장 짧은 노드를 선택'하기 위해 매 단계마다 1차원 리스트의 모든 원소를 확인한다.\n",
    "\n",
    "모든 리스트는 `노드의 개수 + 1`의 크기로 할당하여, 노드의 번호를 인덱스로 하여 바로 리스트에 접근할 수 있도록 했다."
   ]
  },
  {
   "cell_type": "code",
   "execution_count": 2,
   "id": "6c985540",
   "metadata": {},
   "outputs": [
    {
     "name": "stdout",
     "output_type": "stream",
     "text": [
      "0\n",
      "2\n",
      "3\n",
      "1\n",
      "2\n",
      "4\n"
     ]
    }
   ],
   "source": [
    "\n",
    "# 각 노드에 연결되어 있는 노드에 대한 정보를 담고있는 리스트 만들기\n",
    "graph = [[] for i in range(n + 1)]\n",
    "\n",
    "# 방문한 적이 있는지 체크하는 목적의 리스트\n",
    "visited = [False] * (n + 1)\n",
    "\n",
    "# 최단 거리 테이블을 모두 무한으로 초기화\n",
    "distance = [INF] * (n + 1)\n",
    "\n",
    "# c: a 노드에서 b 노드로 가는 비용\n",
    "# graph[a].append((b, c))\n",
    "graph[1].append((2, 2))\n",
    "graph[1].append((3, 5))\n",
    "graph[1].append((4, 1))\n",
    "graph[2].append((3, 3))\n",
    "graph[2].append((4, 2))\n",
    "graph[3].append((2, 3))\n",
    "graph[3].append((6, 5))\n",
    "graph[4].append((3, 3))\n",
    "graph[4].append((5, 1))\n",
    "graph[5].append((3, 1))\n",
    "graph[5].append((6, 2))\n",
    "\n",
    "def get_smallest_node():\n",
    "    min_value = INF\n",
    "    index = 0\n",
    "    for i in range(1, n+1):\n",
    "        if distance[i] < min_value and not visited[i]:\n",
    "            min_value = distance[i]\n",
    "            index = i\n",
    "            \n",
    "    return index\n",
    "\n",
    "def dijkstra(start):\n",
    "    # 시작 노드에 대해서 초기화\n",
    "    distance[start] = 0\n",
    "    visited[start] = True\n",
    "    for j in graph[start]:\n",
    "        distance[j[0]] = j[1]\n",
    "        \n",
    "    # 시작 노드를 제외한 전체 n - 1개의 노드에 대한 반복\n",
    "    for _ in range(n - 1):\n",
    "        # 현재 최단 거리가 가장 짧은 노드를 꺼내서, 방문 처리\n",
    "        now = get_smallest_node()\n",
    "        visited[now] = True\n",
    "        # 현재 노드와 연결된 다른 노드를 확인\n",
    "        for j in graph[now]:\n",
    "            cost = distance[now] + j[1]\n",
    "            if cost < distance[j[0]]:\n",
    "                distance[j[0]] = cost\n",
    "\n",
    "dijkstra(start)\n",
    "\n",
    "# 모든 노드로 가기 위한 최단 거리를 출력\n",
    "for i in range(1, n + 1):\n",
    "    # 도달할 수 없는 경우, 무한 이라고 출력\n",
    "    if distance[i] == INF:\n",
    "        print(\"무한\")\n",
    "    # 도달할 수 있는 경우 거리를 출력\n",
    "    else:\n",
    "        print(distance[i])\n"
   ]
  }
 ],
 "metadata": {
  "kernelspec": {
   "display_name": "Python 3 (ipykernel)",
   "language": "python",
   "name": "python3"
  },
  "language_info": {
   "codemirror_mode": {
    "name": "ipython",
    "version": 3
   },
   "file_extension": ".py",
   "mimetype": "text/x-python",
   "name": "python",
   "nbconvert_exporter": "python",
   "pygments_lexer": "ipython3",
   "version": "3.9.12"
  }
 },
 "nbformat": 4,
 "nbformat_minor": 5
}
