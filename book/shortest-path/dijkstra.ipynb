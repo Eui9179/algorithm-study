{
 "cells": [
  {
   "cell_type": "markdown",
   "id": "069cb313",
   "metadata": {},
   "source": [
    "# 최단 경로\n",
    "---"
   ]
  },
  {
   "cell_type": "markdown",
   "id": "64629600",
   "metadata": {},
   "source": [
    "**최단 경로**알고리즘은 말 그대로 가장 짧은 경로를 찾는 알고리즘이다. 최단 경로 알고리즘 유형 중 다익스트라 최단 경로와 플로이드 워셜 알고리즘 유형을 알아보자."
   ]
  },
  {
   "cell_type": "markdown",
   "id": "c944922b",
   "metadata": {},
   "source": [
    "# 다익스트라 최단 경로 알고리즘\n",
    "\n",
    "---\n",
    "\n",
    "**다익스트라** 최단 경로 알고리즘은 그래프에서 여러 개의 노드가 있을 때, 특정한 노드에서 출발하여 다른 노드로 가는 각각의 최단 경로를 구해주는 알고리즘이다. \n",
    "\n",
    "다익스트라 최단 경로 알고리즘은 '음의 간선'이 없을 때 정상적으로 동작한다. **음의 간선**이란 0보다 작은 값을 가지는 간선을 의미하는데, 현실 세계의 길은 음의 간선으로 표현되지 않으므로 다익스트라 알고리즘은 실제로 GPS 소프트웨어의 기본 알고리즘으로 채택되곤 한다.\n",
    "\n",
    ">1. 출발 노드를 설정한다.\n",
    "2. 최단 거리 테이블을 초기화한다.\n",
    "3. 방문하지 않은 노드 중에는 최단 거리가 가장 짧은 노드를 선택한다.\n",
    "4. 해당 노드를 거쳐 다른 노드로 가는 비용을 계산하여 최단 거리 테이블을 갱신한다.\n",
    "5. 위 과정에서 3번과 4번을 반복한다.\n",
    "\n",
    "다익스트라 알고리즘은 최단 경로를 구하는과정에서 '각 노드에 대한 현재까지의 최단 거리' 정보를 항상 1차원 리스트에 저장하며 리스트를 계속 갱신한다는 특징이 있다. 매번 현재 처리하고 있는 노드를 기준으로 주변 간선을 확인한다. 나중에 현재 처리하고 있는 노드와 인접한 노드로 도달하는 더 짧은 경로를 찾으면 그 경로를 제일 짧은 경로로 판단한다. 따라서 '방문하지 않은 노드 중에서 현재 최단 거리가 가장 짧은 노드를 확인'해 그 노드에 대하여 `4`번 과정을 수행한다는 점에서 그리디 알고리즘으로 볼 수 있다.\n",
    "\n",
    "다익스르라 알고리즘을 구현하는 방법은 2가지 이다.\n",
    "\n",
    ">방법1. 구현이 쉽지만 속도가 느림<br>\n",
    "방법2. 구현이 비교적 어렵지만 속도가 빠름"
   ]
  },
  {
   "cell_type": "markdown",
   "id": "fb8cd520",
   "metadata": {},
   "source": [
    "# 방법 1. 간단한 다익스트라 알고리즘\n",
    "---\n",
    "간단한 다익스트라 알고리즘은 O(V^2)의 시간복잡도를 가진다. 여기서 V는 노드의 개수를 의미한다.\n",
    "처음에 각 노드에 대한 최단 거리르 담는 1차원 리스트를 선언한다. 이후에 단계마다 '방문하지 않은 노드 중에서 최단 거리가 가장 짧은 노드를 선택'하기 위해 매 단계마다 1차원 리스트의 모든 원소를 확인한다.\n",
    "\n",
    "모든 리스트는 `노드의 개수 + 1`의 크기로 할당하여, 노드의 번호를 인덱스로 하여 바로 리스트에 접근할 수 있도록 했다."
   ]
  },
  {
   "cell_type": "code",
   "execution_count": 12,
   "id": "574d2b93",
   "metadata": {},
   "outputs": [],
   "source": [
    "n = 6\n",
    "m = 11\n",
    "INF = int(1e9)\n",
    "\n",
    "start = 1\n",
    "\n",
    "graph = [[] for i in range(n + 1)]\n",
    "\n",
    "# 방문한 적이 있는지 체크하는 목적의 리스트\n",
    "visited = [False] * (n + 1)\n",
    "\n",
    "# 최단 거리 테이블을 모두 무한으로 초기화\n",
    "distance = [INF] * (n + 1)\n",
    "\n",
    "# c: a 노드에서 b 노드로 가는 비용\n",
    "# graph[a].append((b, c))\n",
    "graph[1].append((2, 2))\n",
    "graph[1].append((3, 5))\n",
    "graph[1].append((4, 1))\n",
    "graph[2].append((3, 3))\n",
    "graph[2].append((4, 2))\n",
    "graph[3].append((2, 3))\n",
    "graph[3].append((6, 5))\n",
    "graph[4].append((3, 3))\n",
    "graph[4].append((5, 1))\n",
    "graph[5].append((3, 1))\n",
    "graph[5].append((6, 2))\n"
   ]
  },
  {
   "cell_type": "code",
   "execution_count": 5,
   "id": "6c985540",
   "metadata": {},
   "outputs": [
    {
     "name": "stdout",
     "output_type": "stream",
     "text": [
      "0\n",
      "2\n",
      "3\n",
      "1\n",
      "2\n",
      "4\n"
     ]
    }
   ],
   "source": [
    "def get_smallest_node():\n",
    "    min_value = INF\n",
    "    index = 0\n",
    "    for i in range(1, n+1):\n",
    "        if distance[i] < min_value and not visited[i]:\n",
    "            min_value = distance[i]\n",
    "            index = i\n",
    "            \n",
    "    return index\n",
    "\n",
    "def dijkstra(start):\n",
    "    # 시작 노드에 대해서 초기화\n",
    "    distance[start] = 0\n",
    "    visited[start] = True\n",
    "    for j in graph[start]:\n",
    "        distance[j[0]] = j[1]\n",
    "        \n",
    "    # 시작 노드를 제외한 전체 n - 1개의 노드에 대한 반복\n",
    "    for _ in range(n - 1):\n",
    "        # 현재 최단 거리가 가장 짧은 노드를 꺼내서, 방문 처리\n",
    "        now = get_smallest_node()\n",
    "        visited[now] = True\n",
    "        # 현재 노드와 연결된 다른 노드를 확인\n",
    "        for j in graph[now]:\n",
    "            cost = distance[now] + j[1]\n",
    "            if cost < distance[j[0]]:\n",
    "                distance[j[0]] = cost\n",
    "\n",
    "dijkstra(start)\n",
    "\n",
    "# 모든 노드로 가기 위한 최단 거리를 출력\n",
    "for i in range(1, n + 1):\n",
    "    # 도달할 수 없는 경우, 무한 이라고 출력\n",
    "    if distance[i] == INF:\n",
    "        print(\"무한\")\n",
    "    # 도달할 수 있는 경우 거리를 출력\n",
    "    else:\n",
    "        print(distance[i])\n"
   ]
  },
  {
   "cell_type": "markdown",
   "id": "4f152a29",
   "metadata": {},
   "source": [
    "# 방법 2. 우선순위 큐를 이용한 개선된 다익스트라\n",
    "---\n",
    "\n",
    "개선된 다익스트라 알고리즘에서는 `힙` 자료구조를 이용하고 우선순위 큐로 구현한다. **우선순위 큐**는 *우선순위가 가장 높은 데이터를 가장 먼저 삭제*한다는 특징이 있다. 파이썬에서는 우선순위 큐가 필요할 때 `PriorityQueue` 혹은 `heapq`를 사용할 수 있는데, 더 빠르게 동작하는 `heapq`를 사용한다.\n",
    "\n",
    "우선순위 값을 표현할 때는 일반적으로 정수형 자료형의 변수가 사용된다. 예를 들어 물건 정보가 있고, 이 물건 정보는 물건의 가치와 물건의 무게로만 구성된다고 가정해보자. 그러면 모든 물건 데이터를 (가치, 물건)으로 묶어서 우선순위 큐 자료구조에 넣을 수 있다. 이후에 우선순위 큐에서 물건을 꺼내면 항상 '가치'가 높은 물건이 먼저 나오게 된다.\n",
    "\n",
    "우선 순위 큐는 '최소 힙', '최대 힙'을 이용하는데, 다익스트라에서는 최소힙을 이용한다. (최소 힙을 최대 힙처럼 사용하기 위해서 일부러 `-(마이너스)` 부호를 넣어 우선순위 큐에서 꺼낸 다음 원래의 값으로 되돌리는 방식을 사용하기도 한다.\n",
    "\n",
    "개선된 다익스트라 알고리즘에서는 우선순위 큐를 현재 가장 가까운 노드를 저장하기 위한 목적으로만 우선순위 큐를 추가 이용한다고 보면 된다.\n",
    "\n",
    "`get_smallest_node()`라는 함수 대신 '최단 거리가 가장 짧은 노드'를 선택하는 과정을 다익스트라 최단 경로 함수 안에서 **우선순위 큐**를 이용하는 방식으로 대체할 수 있다."
   ]
  },
  {
   "cell_type": "code",
   "execution_count": 35,
   "id": "f64956fb",
   "metadata": {},
   "outputs": [
    {
     "data": {
      "text/plain": [
       "['X', 0, 2, 3, 1, 2, 4]"
      ]
     },
     "execution_count": 35,
     "metadata": {},
     "output_type": "execute_result"
    }
   ],
   "source": [
    "import heapq\n",
    "# heapq.heappush(q, (1, 'A'))\n",
    "# heapq.heappop(q)\n",
    "\n",
    "n = 6\n",
    "graph = {str(i): [] for i in range(n + 1)}\n",
    "\n",
    "# a에서 c로가는 비용 b\n",
    "# graph[a].append(b, c)\n",
    "\n",
    "graph['1'].append((2, '2'))\n",
    "graph['1'].append((5, '3'))\n",
    "graph['1'].append((1, '4'))\n",
    "graph['2'].append((3, '3'))\n",
    "graph['2'].append((2, '4'))\n",
    "graph['3'].append((3, '2'))\n",
    "graph['3'].append((5, '6'))\n",
    "graph['4'].append((3, '3'))\n",
    "graph['4'].append((1, '5'))\n",
    "graph['5'].append((1, '3'))\n",
    "graph['5'].append((2, '6'))\n",
    "\n",
    "INF = int(1e9)\n",
    "\n",
    "def dijkstra_path():\n",
    "    # init\n",
    "    q = []\n",
    "    distances = [INF] * (n + 1)\n",
    "    distances[0] = 'X' # 보기 쉽게 인덱스 1부터 시작\n",
    "    \n",
    "    start = '1'\n",
    "    distances[int(start)] = 0\n",
    "    \n",
    "    heapq.heappush(q, (0, start))\n",
    "    \n",
    "    # start\n",
    "    while q:\n",
    "        distance, now_node = heapq.heappop(q)\n",
    "        \n",
    "        if  distances[int(now_node)] < distance:\n",
    "            # 전체 길이 리스트에 있는 현제 노드 길이가 큐에서 꺼낸 노드의 길이보다 짧다면 이미 처리한 상태\n",
    "            continue\n",
    "            \n",
    "        for node in graph[now_node]:\n",
    "            linked_node_vertex = node[1]\n",
    "            linked_node_distance = node[0]\n",
    "            \n",
    "            new_calc_distance = distance + linked_node_distance # 큐에서 꺼낸 노드의 거리 + 연결된 노드의 거리\n",
    "            \n",
    "            if new_calc_distance < distances[int(linked_node_vertex)]:\n",
    "                distances[int(linked_node_vertex)] = new_calc_distance\n",
    "                # 개선 되기 전, 계산을 위해 연결된 모든 노드를 검사했지만\n",
    "                # 개선된 후, 업데이트 된 노드들만 큐만 넣는다.\n",
    "                heapq.heappush(q, (new_calc_distance, linked_node_vertex))\n",
    "            \n",
    "    return distances\n",
    "\n",
    "dijkstra_path()"
   ]
  },
  {
   "cell_type": "markdown",
   "id": "57d4c12f",
   "metadata": {},
   "source": [
    "# 예제\n",
    "---\n",
    "\n",
    "## 전보"
   ]
  },
  {
   "cell_type": "code",
   "execution_count": 37,
   "id": "a71cfe44",
   "metadata": {},
   "outputs": [
    {
     "data": {
      "text/plain": [
       "[2, 4]"
      ]
     },
     "execution_count": 37,
     "metadata": {},
     "output_type": "execute_result"
    }
   ],
   "source": [
    "import heapq\n",
    "\n",
    "INF = int(1e9)\n",
    "\n",
    "def solution(n:int, graph:dict):\n",
    "    max_distance = 0\n",
    "    vertex_count = 0\n",
    "    \n",
    "    # init\n",
    "    q = []\n",
    "    distances = [INF] * (n + 1)\n",
    "    \n",
    "    start = '1'\n",
    "    distances[int(start)] = 0\n",
    "    \n",
    "    heapq.heappush(q, (0, start))\n",
    "    \n",
    "    # start\n",
    "    while q:\n",
    "        distance, vertex = heapq.heappop(q)\n",
    "        \n",
    "        if distances[int(vertex)] < distance:\n",
    "            # 결과 거리의 노드가 이미 큐 안에 있는 노드보다 거리가 짧다면 무시\n",
    "            continue\n",
    "        \n",
    "        for node in graph[vertex]:\n",
    "            linked_node_vertex = node[1]\n",
    "            linked_node_distance = node[0]\n",
    "            \n",
    "            new_calc_distance = distance + linked_node_distance\n",
    "            \n",
    "            if new_calc_distance < distances[int(linked_node_vertex)]:\n",
    "                distances[int(linked_node_vertex)] = new_calc_distance\n",
    "                heapq.heappush(q, (new_calc_distance, linked_node_vertex))\n",
    "    \n",
    "    for d in distances:\n",
    "        if d != INF:\n",
    "            vertex_count += 1\n",
    "            max_distance = max(max_distance, d)\n",
    "    \n",
    "    return [vertex_count - 1, max_distance]\n",
    "\n",
    "solution(3, {\n",
    "    '0':'X',\n",
    "    '1': [(4, '2'), (2, '3')],\n",
    "    '2':[],\n",
    "    '3':[]\n",
    "})"
   ]
  }
 ],
 "metadata": {
  "kernelspec": {
   "display_name": "Python 3 (ipykernel)",
   "language": "python",
   "name": "python3"
  },
  "language_info": {
   "codemirror_mode": {
    "name": "ipython",
    "version": 3
   },
   "file_extension": ".py",
   "mimetype": "text/x-python",
   "name": "python",
   "nbconvert_exporter": "python",
   "pygments_lexer": "ipython3",
   "version": "3.9.12"
  }
 },
 "nbformat": 4,
 "nbformat_minor": 5
}
