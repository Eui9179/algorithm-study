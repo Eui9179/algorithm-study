{
 "cells": [
  {
   "cell_type": "markdown",
   "id": "0302f269",
   "metadata": {},
   "source": [
    "# 미래도시"
   ]
  },
  {
   "cell_type": "code",
   "execution_count": 11,
   "id": "49254e85",
   "metadata": {},
   "outputs": [
    {
     "name": "stdout",
     "output_type": "stream",
     "text": [
      "[[0, 1, 1, 1, 2], [1, 0, 2, 1, 2], [1, 2, 0, 1, 1], [1, 1, 1, 0, 1], [2, 2, 1, 1, 0]]\n",
      "3\n"
     ]
    }
   ],
   "source": [
    "INF = int(1e9)\n",
    "\n",
    "def solution(n, link, x, k):\n",
    "    graph = [[INF] * n for _ in range(n)]\n",
    "    \n",
    "    for a in range(n):\n",
    "        for b in range(n):\n",
    "            if a == b:\n",
    "                graph[a][b] = 0\n",
    "    \n",
    "    for l in link:\n",
    "        graph[l[0]][l[1]] = 1\n",
    "        graph[l[1]][l[0]] = 1\n",
    "    \n",
    "    \n",
    "    for k in range(n):\n",
    "        for a in range(n):\n",
    "            for b in range(n):\n",
    "                graph[a][b] = min(graph[a][b], graph[a][k] + graph[k][b])\n",
    "    \n",
    "    \n",
    "    distance = graph[0][k] + graph[k][x]\n",
    "    \n",
    "    if distance == INF:\n",
    "        print(-1)\n",
    "    else:\n",
    "        print(distance)\n",
    "    \n",
    "    \n",
    "solution(5, [\n",
    "    (0,1),\n",
    "    (0,2),\n",
    "    (0,3),\n",
    "    (1,3),\n",
    "    (2,3),\n",
    "    (2,4),\n",
    "    (3,4),\n",
    "], 3, 4)\n",
    "    "
   ]
  },
  {
   "cell_type": "markdown",
   "id": "1619f493",
   "metadata": {},
   "source": [
    "# 전보"
   ]
  },
  {
   "cell_type": "code",
   "execution_count": 38,
   "id": "7d1b324e",
   "metadata": {},
   "outputs": [
    {
     "name": "stdout",
     "output_type": "stream",
     "text": [
      "[1000000000, 0, 4, 2]\n"
     ]
    }
   ],
   "source": [
    "import heapq\n",
    "\n",
    "\n",
    "INF = int(1e9)\n",
    "\n",
    "\n",
    "def solution(n, c, node_info):\n",
    "    count = 0\n",
    "    \n",
    "    distances = [INF] * (n + 1)\n",
    "    distances[1] = 0\n",
    "    \n",
    "    nodes = {str(node):[] for node in range(1, n + 1)}\n",
    "    \n",
    "    for node in node_info:\n",
    "        nodes[str(node[0])].append((node[2], str(node[1])))\n",
    "    \n",
    "    q = []\n",
    "    heapq.heappush(q, (0, str(c)))\n",
    "    \n",
    "    while q:\n",
    "        weight, vertex = heapq.heappop(q)\n",
    "        \n",
    "        if distances[int(vertex)] < weight :\n",
    "            continue\n",
    "            \n",
    "        for linked_node in nodes[vertex]:\n",
    "            \n",
    "            linked_node_vertex = linked_node[1]\n",
    "            linked_node_weight = linked_node[0]\n",
    "            \n",
    "            new_distance = linked_node_weight + weight\n",
    "            \n",
    "            if new_distance  < distances[int(linked_node_vertex)]:\n",
    "                distances[int(linked_node_vertex)] = new_distance\n",
    "                heapq.heappush(q, (new_distance, linked_node_vertex))\n",
    "                \n",
    "    print(distances)\n",
    "        \n",
    "solution(3, 1, [(1,2,4), (1,3,2)])\n",
    "        \n",
    "        \n"
   ]
  }
 ],
 "metadata": {
  "kernelspec": {
   "display_name": "Python 3 (ipykernel)",
   "language": "python",
   "name": "python3"
  },
  "language_info": {
   "codemirror_mode": {
    "name": "ipython",
    "version": 3
   },
   "file_extension": ".py",
   "mimetype": "text/x-python",
   "name": "python",
   "nbconvert_exporter": "python",
   "pygments_lexer": "ipython3",
   "version": "3.9.12"
  }
 },
 "nbformat": 4,
 "nbformat_minor": 5
}
