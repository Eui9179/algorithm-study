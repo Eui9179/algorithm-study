{
 "cells": [
  {
   "cell_type": "markdown",
   "id": "17ce67e9",
   "metadata": {},
   "source": [
    "## p298 팀결성"
   ]
  },
  {
   "cell_type": "code",
   "execution_count": 2,
   "id": "a178d592",
   "metadata": {},
   "outputs": [
    {
     "data": {
      "text/plain": [
       "['NO', 'NO', 'YES']"
      ]
     },
     "execution_count": 2,
     "metadata": {},
     "output_type": "execute_result"
    }
   ],
   "source": [
    "teams = [\n",
    "    # 0: 팀 합치기\n",
    "    # 1: 같은 팀 여부\n",
    "    (0, 1, 3),\n",
    "    (1, 1, 7),\n",
    "    (0, 7, 6),\n",
    "    (1, 7, 1),\n",
    "    (0, 3, 7),\n",
    "    (0, 4, 2),\n",
    "    (0, 1, 1),\n",
    "    (1, 1, 1)\n",
    "]\n",
    "\n",
    "def union(parent, a, b):\n",
    "    a = find_parent(parent, a)\n",
    "    b = find_parent(parent, b)\n",
    "    \n",
    "    if a < b:\n",
    "        parent[b] = a\n",
    "    else:\n",
    "        parent[a] = b\n",
    "\n",
    "def find_parent(parent, a):\n",
    "    if parent[a] != a:\n",
    "        parent[a] = find_parent(parent, parent[a])\n",
    "    return parent[a]\n",
    "\n",
    "def solution(teams):\n",
    "    answer = []\n",
    "    parent = [i for i in range(len(teams))]\n",
    "    \n",
    "    for team in teams:\n",
    "        cal, a, b = team\n",
    "        if cal == 1:\n",
    "            if find_parent(parent, a) == find_parent(parent, b):\n",
    "                answer.append('YES')\n",
    "            else:\n",
    "                answer.append('NO')\n",
    "        else:\n",
    "            union(parent, a, b)\n",
    "    \n",
    "    return answer\n",
    "\n",
    "solution(teams)"
   ]
  },
  {
   "cell_type": "code",
   "execution_count": null,
   "id": "495ff300",
   "metadata": {},
   "outputs": [],
   "source": []
  }
 ],
 "metadata": {
  "kernelspec": {
   "display_name": "Python 3 (ipykernel)",
   "language": "python",
   "name": "python3"
  },
  "language_info": {
   "codemirror_mode": {
    "name": "ipython",
    "version": 3
   },
   "file_extension": ".py",
   "mimetype": "text/x-python",
   "name": "python",
   "nbconvert_exporter": "python",
   "pygments_lexer": "ipython3",
   "version": "3.9.12"
  }
 },
 "nbformat": 4,
 "nbformat_minor": 5
}
