{
 "cells": [
  {
   "cell_type": "markdown",
   "id": "17ce67e9",
   "metadata": {},
   "source": [
    "## p298 팀결성"
   ]
  },
  {
   "cell_type": "code",
   "execution_count": 2,
   "id": "a178d592",
   "metadata": {},
   "outputs": [
    {
     "data": {
      "text/plain": [
       "['NO', 'NO', 'YES']"
      ]
     },
     "execution_count": 2,
     "metadata": {},
     "output_type": "execute_result"
    }
   ],
   "source": [
    "teams = [\n",
    "    # 0: 팀 합치기\n",
    "    # 1: 같은 팀 여부\n",
    "    (0, 1, 3),\n",
    "    (1, 1, 7),\n",
    "    (0, 7, 6),\n",
    "    (1, 7, 1),\n",
    "    (0, 3, 7),\n",
    "    (0, 4, 2),\n",
    "    (0, 1, 1),\n",
    "    (1, 1, 1)\n",
    "]\n",
    "\n",
    "def union(parent, a, b):\n",
    "    a = find_parent(parent, a)\n",
    "    b = find_parent(parent, b)\n",
    "    \n",
    "    if a < b:\n",
    "        parent[b] = a\n",
    "    else:\n",
    "        parent[a] = b\n",
    "\n",
    "def find_parent(parent, a):\n",
    "    if parent[a] != a:\n",
    "        parent[a] = find_parent(parent, parent[a])\n",
    "    return parent[a]\n",
    "\n",
    "def solution(teams):\n",
    "    answer = []\n",
    "    parent = [i for i in range(len(teams))]\n",
    "    \n",
    "    for team in teams:\n",
    "        cal, a, b = team\n",
    "        if cal == 1:\n",
    "            if find_parent(parent, a) == find_parent(parent, b):\n",
    "                answer.append('YES')\n",
    "            else:\n",
    "                answer.append('NO')\n",
    "        else:\n",
    "            union(parent, a, b)\n",
    "    \n",
    "    return answer\n",
    "\n",
    "solution(teams)"
   ]
  },
  {
   "cell_type": "markdown",
   "id": "4962693f",
   "metadata": {},
   "source": [
    "## p300 도시 분할 계획\n",
    "\n",
    "도시를 2개로 분할하고 최소 거리 유지비용을 구해라"
   ]
  },
  {
   "cell_type": "code",
   "execution_count": 14,
   "id": "641ba139",
   "metadata": {},
   "outputs": [
    {
     "data": {
      "text/plain": [
       "8"
      ]
     },
     "execution_count": 14,
     "metadata": {},
     "output_type": "execute_result"
    }
   ],
   "source": [
    "towns = [\n",
    "    # 비용, 집1, 집2\n",
    "    (3, 1, 2),\n",
    "    (2, 1, 3),\n",
    "    (1, 3, 2),\n",
    "    (2, 2, 5),\n",
    "    (4, 3, 4),\n",
    "    (6, 7, 3),\n",
    "    (5, 5, 1),\n",
    "    (2, 1, 6),\n",
    "    (1, 6, 4),\n",
    "    (3, 6, 5),\n",
    "    (3, 4, 5),\n",
    "    (4, 6, 7)\n",
    "]\n",
    "\n",
    "house_cnt = 7\n",
    "\n",
    "def union(parent, a, b):\n",
    "    a = find_parent(parent, a)\n",
    "    b = find_parent(parent, b)\n",
    "    \n",
    "    if a < b:\n",
    "        parent[b] = a\n",
    "    else:\n",
    "        parent[a] = b\n",
    "\n",
    "def find_parent(parent, a):\n",
    "    if parent[a] != a:\n",
    "        parent[a] = find_parent(parent, parent[a])\n",
    "    return parent[a]\n",
    "\n",
    "def solution(house_cnt, towns):\n",
    "    answer = 0\n",
    "    expensive = 0\n",
    "    parent = [i for i in range(house_cnt + 1)]\n",
    "    \n",
    "    towns.sort()\n",
    "    \n",
    "    # 최소 신장트리\n",
    "    # 가장 비용이 적은 노드부터 부모가 다르면 연결, 부모가 같으면 연결하지 않는다.\n",
    "    for town in towns:\n",
    "        cost, a, b = town\n",
    "        \n",
    "        if find_parent(parent, a) != find_parent(parent, b):\n",
    "            union(parent, a, b)\n",
    "            answer += cost\n",
    "            last = cost\n",
    "    \n",
    "    return answer - last\n",
    "\n",
    "solution(house_cnt, towns)\n"
   ]
  },
  {
   "cell_type": "markdown",
   "id": "08ca7a0c",
   "metadata": {},
   "source": [
    "풀이 방법: 최소 신장 트리를 구하고 가장 비용이 비싼 도로를 끊는다."
   ]
  }
 ],
 "metadata": {
  "kernelspec": {
   "display_name": "Python 3 (ipykernel)",
   "language": "python",
   "name": "python3"
  },
  "language_info": {
   "codemirror_mode": {
    "name": "ipython",
    "version": 3
   },
   "file_extension": ".py",
   "mimetype": "text/x-python",
   "name": "python",
   "nbconvert_exporter": "python",
   "pygments_lexer": "ipython3",
   "version": "3.9.12"
  }
 },
 "nbformat": 4,
 "nbformat_minor": 5
}
