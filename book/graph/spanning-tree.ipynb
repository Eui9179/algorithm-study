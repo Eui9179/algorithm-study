{
 "cells": [
  {
   "cell_type": "markdown",
   "id": "3cca7849",
   "metadata": {},
   "source": [
    "# 신장 트리\n",
    "---\n",
    "\n",
    "하나의 그래프가 있을 때 모든 노드를 포함하면서 사이클이 존재하지 않는 부분 그래프를 의미한다.\n",
    "\n",
    "이때 모든 노드가 포함되어 서로 연결되면서 사이클이 존재하지 않는다는 조건은 트리의 성립 조건이기도 하다.\n",
    "\n",
    "\n",
    "예를 들어 도시 세개를 도로로 연결하는 상황에서 최소한의 도로만 연결하는 상황이 있을 것이다. <br>\n",
    "이런 최소 비용으로 만들 수 있는 신장 트리를 찾는 알고리즘을 최소 **신장 트리 알고리즘**이라고 한다. 대표적인 최소 신장 트리 알고리즘으로는 **크루스칼 알고리즘**이다."
   ]
  },
  {
   "cell_type": "markdown",
   "id": "c507e2a9",
   "metadata": {},
   "source": [
    "## 크루스칼 알고리즘\n",
    "\n",
    "크루스칼 알고리즘을 사용하면 가장 적은 비용으로 모든 노드를 연결할 수 있는데 크루스칼 알고리즘은 그리디 알고리즘으로 분류된다. 먼저 모든 간선에 대하여 정렬을 수행한 뒤에 가장 거리가 짧은 간선부터 집합에 포함시키면 된다. 이때 사이클을 발생시킬 수 있는 간선의 경우, 집합에 포함시키지 않는다."
   ]
  },
  {
   "cell_type": "markdown",
   "id": "0eea3994",
   "metadata": {},
   "source": [
    "1. 간선 데이터를 비용에 따라 오름차순으로 정렬한다.\n",
    "\n",
    "\n",
    "2. 간선을 하나씩 확인하며 현재의 간선이 사이클을 발생시키는지 확인한다.\n",
    "    1. 사이클이 발생하지 않는 경우 최소 신장 트리에 포함시킨다.\n",
    "    2. 사이클이 발생하는 경우 최소 신장 트리에 포함시키지 않는다.\n",
    "\n",
    "\n",
    "3. 모든 간선에 대하여 2번의 과정을 반복한다."
   ]
  },
  {
   "cell_type": "markdown",
   "id": "661fedc6",
   "metadata": {},
   "source": [
    "최소 신장 트리는 일종의 트리 자료구조이므로, 최종적으로 신장 트리에 포함되는 간선의 개수가 '노드의 개수 -1'과 같다는 특징이 있다.\n",
    "\n",
    "따라서 크루스칼 알고리즘의 핵심 원리는 가장 거리가 짧은 간선부터 차례대로 집합에 추가하면 된다는 것이다. 다만 사이클을 발생시키는 간선은 제외하고 연결한다."
   ]
  },
  {
   "cell_type": "code",
   "execution_count": 7,
   "id": "7ca42eb2",
   "metadata": {},
   "outputs": [
    {
     "data": {
      "text/plain": [
       "159"
      ]
     },
     "execution_count": 7,
     "metadata": {},
     "output_type": "execute_result"
    }
   ],
   "source": [
    "def find_parent(parent, x):\n",
    "    if parent[x] != x:\n",
    "        parent[x] = find_parent(parent, parent[x])\n",
    "    return parent[x]\n",
    "\n",
    "def union_parent(parent, a, b):\n",
    "    a = find_parent(parent, a)\n",
    "    b = find_parent(parent, b)\n",
    "    \n",
    "    if a < b:\n",
    "        parent[b] = a\n",
    "    else:\n",
    "        parent[a] = b\n",
    "\n",
    "result = 0\n",
    "v = 7 # node 개수\n",
    "parent = [0] * (v + 1) # 부모 노드 리스트\n",
    "\n",
    "# (비용, 노드1, 노드2)\n",
    "edges = [\n",
    "    (29, 1, 2),\n",
    "    (75, 1, 5),\n",
    "    (35, 2, 3),\n",
    "    (34, 2, 6),\n",
    "    (7, 3, 4),\n",
    "    (23, 4, 6),\n",
    "    (13, 4, 7),\n",
    "    (53, 5, 6),\n",
    "    (25, 6, 7)\n",
    "]\n",
    "\n",
    "# 부모 노드 자기 자신으로 초기화\n",
    "for i in range(1, v + 1):\n",
    "    parent[i] = i\n",
    "\n",
    "# 비용 작은 순으로 정렬\n",
    "edges.sort()\n",
    "\n",
    "for edge in edges:\n",
    "    cost, a, b = edge\n",
    "    \n",
    "    # 사이클이 발생하지 않는 경우에만 집합에 포합\n",
    "    if find_parent(parent, a) != find_parent(parent, b):\n",
    "        union_parent(parent, a, b)\n",
    "        result += cost\n",
    "\n",
    "result"
   ]
  }
 ],
 "metadata": {
  "kernelspec": {
   "display_name": "Python 3 (ipykernel)",
   "language": "python",
   "name": "python3"
  },
  "language_info": {
   "codemirror_mode": {
    "name": "ipython",
    "version": 3
   },
   "file_extension": ".py",
   "mimetype": "text/x-python",
   "name": "python",
   "nbconvert_exporter": "python",
   "pygments_lexer": "ipython3",
   "version": "3.9.12"
  }
 },
 "nbformat": 4,
 "nbformat_minor": 5
}
