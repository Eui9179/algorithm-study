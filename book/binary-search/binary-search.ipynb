{
 "cells": [
  {
   "cell_type": "markdown",
   "id": "7dae1055",
   "metadata": {},
   "source": [
    "# 이진 탐색\n",
    "---\n",
    "\n",
    "이진 탐색은 배열 내부의 데이터가 정렬되어 있어야만 사용할 수 있는 알고리즘이다. 이진 탐색은 탐색 범위를 절반씩 좁혀가며 데이터를 탐색하는 특징이 있다.\n",
    "\n",
    "<br>\n",
    "\n",
    "이진 탐색은 위치를 나타내는 변수 3개를 사용하는데 탐색하고자 하는 범위의 **시작점**, **끝점**, 그리고 **중간점**이다. 찾으려는 데이터와 중간점 위치에 있는 데이터를 반복적으로 비교해서 원하는 데이터를 찾는 게 이진 탐색 과정이다.\n",
    "\n",
    "<br>"
   ]
  },
  {
   "cell_type": "markdown",
   "id": "075e4671",
   "metadata": {},
   "source": [
    "## 재귀 함수로 구현한 이진 탐색 소스코드"
   ]
  },
  {
   "cell_type": "code",
   "execution_count": 25,
   "id": "fcbd0457",
   "metadata": {},
   "outputs": [
    {
     "name": "stdout",
     "output_type": "stream",
     "text": [
      "6\n",
      "None\n"
     ]
    }
   ],
   "source": [
    "def binary_search(array, target, start, end):\n",
    "    mid = (start+end)//2\n",
    "    \n",
    "    if start > end:\n",
    "        return None\n",
    "    \n",
    "    if array[mid] == target:\n",
    "        print(mid)\n",
    "        return mid\n",
    "    \n",
    "    elif  array[mid] > target:\n",
    "        binary_search(array, target, start, mid - 1)\n",
    "        \n",
    "    else:\n",
    "        binary_search(array, target, mid+1, end)\n",
    "        \n",
    "print(binary_search([1,2,3,4,5,6,7,8,9], 7, 0, 9))"
   ]
  },
  {
   "cell_type": "code",
   "execution_count": 34,
   "id": "f05fee0c",
   "metadata": {},
   "outputs": [
    {
     "name": "stdout",
     "output_type": "stream",
     "text": [
      "None\n"
     ]
    }
   ],
   "source": [
    "def binary_search2(array, target):\n",
    "    start = 0\n",
    "    end = len(array)\n",
    "    \n",
    "    if target >= end:\n",
    "        return None\n",
    "    \n",
    "    while start <= end:\n",
    "        mid = (start + end) // 2\n",
    "        \n",
    "        if array[mid] == target:\n",
    "            return mid\n",
    "        \n",
    "        elif array[mid] > target:\n",
    "            end = mid - 1\n",
    "        \n",
    "        else:\n",
    "            start = mid + 1\n",
    "    \n",
    "    return None\n",
    "\n",
    "print(binary_search2([0,1,2,3,4,5,6,7], 5))"
   ]
  },
  {
   "cell_type": "markdown",
   "id": "2b6588a0",
   "metadata": {},
   "source": [
    "이진 탐색 문제는 탐색 범위가 큰 상황에서의 탐색을 가정하는 문제가 많다. 따라서 탐색 범위가 2000만을 넘어가면 이진 담색으로 문제에 접근해보길 권한다."
   ]
  },
  {
   "cell_type": "markdown",
   "id": "de488622",
   "metadata": {},
   "source": [
    "# 트리 자료구조\n",
    "---\n",
    "\n",
    "트리 자료구조는 노드와 노드의 연결로 표현하며 여기에서 노드는 정보의 단위로서 어떠한 정보를 가지고 있는 개체로 이해할 수 있다.\n",
    "\n",
    "- 트리는 부모노드와 자식노드의 관계로 표현한다.\n",
    "- 트리의 최상단 노드를 루트 노드라고 한다.\n",
    "- 트리의 최하단 노드를 단말 노드라고 한다.\n",
    "- 트리에서 일부를 떼어내도 트리 구조이며 이를 서브 트리라고 한다.\n",
    "- 트리는 파일 시스템과 같이 계층적이고 정렬된 데이터를 다루기에 적합하다."
   ]
  },
  {
   "cell_type": "markdown",
   "id": "082367ef",
   "metadata": {},
   "source": [
    "# 이진 탐색 트리\n",
    "---\n",
    "\n",
    "트리 자료구조 중에서 가장 간단한 형태가 이진 탐색 트리이다.\n",
    "보통 이진 탐색 트리는 다음과 같은 특징을 가진다.\n",
    "\n",
    "- 부모 노드보다 왼쪽 자식 노드가 작다.\n",
    "- 부모 노드보다 오른쪽 자식 노드가 크다."
   ]
  },
  {
   "cell_type": "markdown",
   "id": "344f66e1",
   "metadata": {},
   "source": [
    "# 실전 문제\n",
    "---"
   ]
  },
  {
   "cell_type": "markdown",
   "id": "33a6e417",
   "metadata": {},
   "source": [
    "## 부품 찾기 (p197)"
   ]
  },
  {
   "cell_type": "code",
   "execution_count": 41,
   "id": "0ad45063",
   "metadata": {},
   "outputs": [
    {
     "data": {
      "text/plain": [
       "'no yes yes '"
      ]
     },
     "execution_count": 41,
     "metadata": {},
     "output_type": "execute_result"
    }
   ],
   "source": [
    "# 8 3 7 9 2\n",
    "# 5 7 9\n",
    "\n",
    "def solution(parts:list, needs:list):\n",
    "    answer = ''\n",
    "    parts.sort()\n",
    "    \n",
    "    for need in needs:\n",
    "        if binary_search(parts, need):\n",
    "            answer += 'yes '\n",
    "        else:\n",
    "            answer += 'no '\n",
    "    \n",
    "    return answer\n",
    "    \n",
    "def binary_search(array, target):\n",
    "    start = 0\n",
    "    end = len(array)\n",
    "    \n",
    "    while start <= end:\n",
    "        mid = (start + end) // 2\n",
    "        \n",
    "        if array[mid] == target:\n",
    "            return True\n",
    "        \n",
    "        elif array[mid] > target:\n",
    "            end = mid - 1\n",
    "        \n",
    "        else:\n",
    "            start = mid + 1\n",
    "            \n",
    "    return False\n",
    "\n",
    "\n",
    "solution([8, 3, 7, 9, 2], [5, 7, 9])\n",
    "    "
   ]
  },
  {
   "cell_type": "markdown",
   "id": "0337bc1a",
   "metadata": {},
   "source": [
    "이 문제는 계수 정렬 개념을 이용해서 풀 수도 있고 set함수를 이용해 풀 수도 있다."
   ]
  },
  {
   "cell_type": "code",
   "execution_count": 44,
   "id": "e5f21da9",
   "metadata": {},
   "outputs": [
    {
     "data": {
      "text/plain": [
       "'no yes yes '"
      ]
     },
     "execution_count": 44,
     "metadata": {},
     "output_type": "execute_result"
    }
   ],
   "source": [
    "def solution(parts, needs):\n",
    "    answer = ''\n",
    "    for need in needs:\n",
    "        if need in parts:\n",
    "            answer += 'yes '\n",
    "        else: answer += 'no '\n",
    "        \n",
    "    return answer\n",
    "\n",
    "solution([8, 3, 7, 9, 2], [5, 7, 9])"
   ]
  },
  {
   "cell_type": "markdown",
   "id": "2e0fdb5b",
   "metadata": {},
   "source": [
    "## 떡볶이 떡 만들기 (p.201)"
   ]
  },
  {
   "cell_type": "code",
   "execution_count": 1,
   "id": "00596ed4",
   "metadata": {},
   "outputs": [
    {
     "data": {
      "text/plain": [
       "15"
      ]
     },
     "execution_count": 1,
     "metadata": {},
     "output_type": "execute_result"
    }
   ],
   "source": [
    "def solution(needs:int, rice_cakes:list):\n",
    "    \n",
    "    max_h = max(rice_cakes) # 최대 길이\n",
    "    min_h = 0 # 최소 길이\n",
    "    \n",
    "    while min_h <= max_h:\n",
    "        mid_h = (max_h + min_h) // 2 # 중간 길이\n",
    "        total = 0 # 떡 자른 나머지 전체 더한 길이\n",
    "        \n",
    "        for rice in rice_cakes:\n",
    "            if rice > min_h: # 자른 길이보다 짧은 떡은 포함하지 않음\n",
    "                total += rice - mid_h\n",
    "            \n",
    "#         if total == needs:\n",
    "#             return mid_h\n",
    "        \n",
    "        if total < needs: # 전체 길이가 주문보다 작으면\n",
    "            max_h = mid_h - 1 # 최대 길이를 줄임\n",
    "        \n",
    "        else:\n",
    "            result = mid_h # 전체 길이가 주문보다 크면\n",
    "            min_h = mid_h + 1\n",
    "            \n",
    "    return result\n",
    "\n",
    "solution(6, [19, 15, 10, 17])\n",
    "        "
   ]
  }
 ],
 "metadata": {
  "kernelspec": {
   "display_name": "Python 3 (ipykernel)",
   "language": "python",
   "name": "python3"
  },
  "language_info": {
   "codemirror_mode": {
    "name": "ipython",
    "version": 3
   },
   "file_extension": ".py",
   "mimetype": "text/x-python",
   "name": "python",
   "nbconvert_exporter": "python",
   "pygments_lexer": "ipython3",
   "version": "3.9.12"
  }
 },
 "nbformat": 4,
 "nbformat_minor": 5
}
