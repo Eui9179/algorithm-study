{
 "cells": [
  {
   "cell_type": "markdown",
   "id": "5a55787d",
   "metadata": {},
   "source": [
    "# 선택 정렬 - Selection Sort\n",
    "---\n",
    "\n",
    "가장 작은 것을 선택해서 앞에 있는 원소와 교환하는 법\n"
   ]
  },
  {
   "cell_type": "code",
   "execution_count": 2,
   "id": "07e986c4",
   "metadata": {},
   "outputs": [
    {
     "name": "stdout",
     "output_type": "stream",
     "text": [
      "[0, 1, 2, 3, 4, 5, 6, 7, 8, 9]\n"
     ]
    }
   ],
   "source": [
    "array = [7, 5, 9, 0, 3, 1, 6, 2, 4, 8]\n",
    "\n",
    "for i in range(len(array)):\n",
    "    min_index = i\n",
    "    for j in range(i + 1, len(array)):\n",
    "        if array[min_index] > array[j]:\n",
    "            min_index = j\n",
    "            \n",
    "    array[i], array[min_index] = array[min_index], array[i]\n",
    "\n",
    "print(array)"
   ]
  },
  {
   "cell_type": "markdown",
   "id": "90bd2490",
   "metadata": {},
   "source": [
    "## 선택 정렬의 시간 복잡도\n",
    "\n",
    "선택 정렬은 N - 1번 만큼 가장 작은 수를 찾아서 맨 앞으로 보내야 한다. 또 한 매번 가장 작은 수를 찾기 위해서 비교 연산이 필요하다.\n",
    "대략적인 연산 횟수는 다음과 같이 표현된다.\n",
    "\n",
    "    N + (N - 1) + (N - 2) + ... + 2\n",
    "    = (N^2 + N) / 2\n",
    "\n",
    "로 빅오 표기법으로 `O(N^2)`이다.\n",
    "\n",
    "<br>"
   ]
  },
  {
   "cell_type": "markdown",
   "id": "4d39328c",
   "metadata": {},
   "source": [
    "# 삽입 정렬 - Insertion Sort\n",
    "---\n",
    "데이터를 하나씩 확인하며, 각 데이터를 적절한 위치에 삽입하는 법, 거의 정렬된 상태에서 굉장히 효율적이다.\n"
   ]
  },
  {
   "cell_type": "code",
   "execution_count": 3,
   "id": "d7b9856f",
   "metadata": {},
   "outputs": [
    {
     "name": "stdout",
     "output_type": "stream",
     "text": [
      "[0, 1, 2, 3, 4, 5, 6, 7, 8, 9]\n"
     ]
    }
   ],
   "source": [
    "array = [7, 5, 9, 0, 3, 1, 6, 2, 4, 8]\n",
    "\n",
    "for i in range(1, len(array)):\n",
    "    for j in range(i, 0, -1):\n",
    "        if array[j] < array[j - 1]:\n",
    "            array[j], array[j - 1] = array[j - 1], array[j]\n",
    "        else:\n",
    "            break\n",
    "print(array)"
   ]
  },
  {
   "cell_type": "markdown",
   "id": "e0387a11",
   "metadata": {},
   "source": [
    "## 삽입 정렬의 시간 복잡도\n",
    "삽입 정렬의 시간 복잡도는 `O(N^2)`인데, 선택 정렬과 마찬가지로 반복문이 2번 중첩되어 사용되었다.실제로 수행 시간을 테스트해보면 앞서 다루었던 선택 정렬과 흡사한 시간이 소요되는 것을 알 수 있다. 여기서 중요한 내용은 거의 정렬되어 있는 상태라면 매우 빠르게 동작한다는 점이다. 최선의 경우 `O(N)`의 시간 복잡도를 가진다.\n",
    "\n",
    "<br>"
   ]
  },
  {
   "cell_type": "markdown",
   "id": "0bbf12c2",
   "metadata": {},
   "source": [
    "# 퀵 정렬 - Quick Sort\n",
    "---\n",
    "\n",
    "퀵 정렬은 정렬 알고리즘 중에 가장 많이 사용되는 알고리즘이다. 퀵 정렬은 기준을 설정한 다음 큰 수와 작은 수를 교환한 후 리스트를 반으로 나누는 방식으로 동작한다. 퀵 정렬에서는 피벗이 사용된다. 큰 숫자와 작은 숫자를 교환할 때, 교환하기 위한 '기준'을 바로 피벗이라고한다.(리스트의 첫 번째 데이터를 피벗으로 설정)\n"
   ]
  },
  {
   "cell_type": "code",
   "execution_count": 13,
   "id": "0c188975",
   "metadata": {},
   "outputs": [
    {
     "name": "stdout",
     "output_type": "stream",
     "text": [
      "[0, 1, 2, 3, 4, 5, 6, 7, 8, 9]\n"
     ]
    }
   ],
   "source": [
    "array = [5, 7, 9, 0, 3, 1, 6, 2, 4, 8]\n",
    "\n",
    "def quick_sort(array):\n",
    "    if len(array) <= 1:\n",
    "        # 비교해야될 배열의 길이가 1개이면 return\n",
    "        return array\n",
    "    \n",
    "    pivot = array[0]\n",
    "    tail = array[1:] # pivot을 제외한 나머지\n",
    "    \n",
    "    left_side = [x for x in tail if x <= pivot] # 피벗보다 작은 부분\n",
    "    right_side = [x for x in tail if x > pivot] # 피벗보다 큰 부분\n",
    "    \n",
    "    return quick_sort(left_side) \\\n",
    "        + [pivot] \\\n",
    "        + quick_sort(right_side)\n",
    "    # 작은 부분 정렬한 배열 + 피봇 + 큰 부분 정렬한 배열\n",
    "    \n",
    "print(quick_sort(array))"
   ]
  },
  {
   "cell_type": "markdown",
   "id": "87ba8828",
   "metadata": {},
   "source": [
    "## 퀵 정렬의 시간 복잡도\n",
    "\n",
    "퀵 정렬의 평균 시간 복잡도는 O(NlogN)이다. 최악의 경우는 O(N^2)이다.\n",
    "\n",
    "<br>"
   ]
  },
  {
   "cell_type": "markdown",
   "id": "a4078ea4",
   "metadata": {},
   "source": [
    "# 계수 정렬 - Count Sort\n",
    "---\n",
    "\n",
    "계수 정렬 알고리즘은 특정한 조건이 부합할 때만 사용할 수 있지만 매우 빠른 정렬 알고리즘이다. 모든 데이터가 양의 정수이고, 데이터 개수가 `n`, 데이터 중 최대값이 `k` 일때 계수 정렬은 최악의 경우에도 수행 시간 `O(n+k)` 를 보장한다. 매우 빠르지만 '데이터의 크가 범위가 제한되어 정수 형태로 표현할 수 있을 때'만 사용할 수 있다. 일반적으로 데이터의 크기 차이가 1000000을 넘지 않을 때 효과적이다.\n",
    "\n",
    "<br>\n",
    "\n",
    "이러한 특징을 가지는 이유는, 계수 정렬을 이용할 때는 '모든 범위를 담을 수 있는 크기의 리스트를 선언'해야 하기 때문이다.\n",
    "계수 정렬은 먼저 가장 큰 데이터와 가장 작은 데이터의 범위가 모두 담길 수 있도록 하나의 리스트를 생성한다.\n",
    "\n",
    "\n",
    "`초기단계: [7, 5, 9, 0, 3, 1, 6, 2, 9, 1, 4, 8, 0, 5, 2]`\n",
    "\n",
    "계수 정렬은 먼저 가장 큰 데이터와 가장 작은 데이터의 범위가 모두 담길 수 있도록 하나의 리스트를 생성한다. 현재 예시에서는 가장 큰 데이터가 '9'이고 가장 작은 데이터가 '0'이다. 따라서 우리가 정렬할 데티어의 범위는 0부터 9까지이므로 리스트의 인덱스가 모든 범위를 포함할 수 있는 크기가 10인 리스트를 만든다. 이 리스트는 모든 데이터가 0으로 선언하다.\n",
    "\n",
    "<br>\n",
    "\n",
    "그 다음 데이터를 하나씩 확인하며 새로 생성한 리스트의 인덱스 값이 데이터 값과 같은 인덱스에 1씩 증가하게 만든다. 이 리스트의 인덱스를 값만큼 반복하면 정렬이 완료된다."
   ]
  },
  {
   "cell_type": "code",
   "execution_count": 18,
   "id": "2adfec14",
   "metadata": {},
   "outputs": [
    {
     "name": "stdout",
     "output_type": "stream",
     "text": [
      "[0, 0, 1, 1, 2, 2, 4, 5, 5, 6, 7, 8, 9, 9]\n"
     ]
    }
   ],
   "source": [
    "array = [7, 5, 9, 0, 1, 6, 2, 9, 1, 4, 8, 0, 5, 2]\n",
    "count = [0] * (max(array) + 1)\n",
    "result = []\n",
    "\n",
    "for a in array:\n",
    "    count[a] += 1\n",
    "    \n",
    "for i in range(len(count)):\n",
    "    for element in range(count[i]):\n",
    "            result.append(i)\n",
    "            \n",
    "print(result)"
   ]
  },
  {
   "cell_type": "markdown",
   "id": "d35c58e4",
   "metadata": {},
   "source": [
    "계수 정렬은 때에 따라서 심각한 비효율성을 초래할 수 있다. 예를 들어 데이터가 0과 9999999, 단 2개만 있다고 했을 때, 길이가 9999999+1 인 리스트를 만들어야한다. \n",
    "\n",
    "<br>\n",
    "\n",
    "계수 정렬은 데이터의 크기가 한정되어 있고, 데이터의 크기가 많이 중복되어 있을수록 유리하며 항상 사용할 수는 없다. 하지만 조건을 만족한다면 계수 정렬은 정렬해야 하는 데이터의 개수가 매우 많을 때도 효과적으로 사용할 수 있다."
   ]
  }
 ],
 "metadata": {
  "kernelspec": {
   "display_name": "Python 3 (ipykernel)",
   "language": "python",
   "name": "python3"
  },
  "language_info": {
   "codemirror_mode": {
    "name": "ipython",
    "version": 3
   },
   "file_extension": ".py",
   "mimetype": "text/x-python",
   "name": "python",
   "nbconvert_exporter": "python",
   "pygments_lexer": "ipython3",
   "version": "3.9.12"
  },
  "vscode": {
   "interpreter": {
    "hash": "916dbcbb3f70747c44a77c7bcd40155683ae19c65e1c03b4aa3499c5328201f1"
   }
  }
 },
 "nbformat": 4,
 "nbformat_minor": 5
}
